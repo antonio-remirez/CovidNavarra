{
 "cells": [
  {
   "cell_type": "code",
   "execution_count": 1,
   "metadata": {},
   "outputs": [],
   "source": [
    "from arcgis import GIS\n",
    "from arcgis import features\n",
    "import arcpy\n",
    "import os"
   ]
  },
  {
   "cell_type": "code",
   "execution_count": 2,
   "metadata": {},
   "outputs": [
    {
     "name": "stdout",
     "output_type": "stream",
     "text": [
      "Enter password: ········\n"
     ]
    }
   ],
   "source": [
    "gis = GIS(\"https://aremirez.maps.arcgis.com/\", \"aremirezdev\")"
   ]
  },
  {
   "cell_type": "code",
   "execution_count": 3,
   "metadata": {},
   "outputs": [],
   "source": [
    "# valores del WFS del gobierno de Navarra\n",
    "wfsUrl = 'https://inspire.navarra.es/services/coronavirus/ows'\n",
    "wfsLayerName = 'Navarra_Coronavirus_ZBS_C'\n",
    "\n",
    "# FileGDB local donde me exportaré los datos del WFS\n",
    "localGDB = 'C:\\\\Temp\\\\Lodosa\\\\Navarra\\\\Navarra.gdb'\n",
    "localFC = os.path.join(localGDB, wfsLayerName)"
   ]
  },
  {
   "cell_type": "code",
   "execution_count": 4,
   "metadata": {},
   "outputs": [
    {
     "data": {
      "text/plain": [
       "<Result 'C:\\\\Temp\\\\Lodosa\\\\Navarra\\\\Navarra.gdb'>"
      ]
     },
     "execution_count": 4,
     "metadata": {},
     "output_type": "execute_result"
    }
   ],
   "source": [
    "# Me aseguro de no contar previamente con esta FC en local. Podríamos salvar una FC por fecha de exportación como haremos más adealnte con las layers en ArcGIS Online\n",
    "if arcpy.Exists(localFC):\n",
    "    arcpy.Delete_management(localFC)\n",
    "arcpy.WFSToFeatureClass_conversion(wfsUrl, wfsLayerName, localGDB, wfsLayerName)"
   ]
  },
  {
   "cell_type": "code",
   "execution_count": 5,
   "metadata": {},
   "outputs": [
    {
     "data": {
      "text/html": [
       "<div>\n",
       "<style scoped>\n",
       "    .dataframe tbody tr th:only-of-type {\n",
       "        vertical-align: middle;\n",
       "    }\n",
       "\n",
       "    .dataframe tbody tr th {\n",
       "        vertical-align: top;\n",
       "    }\n",
       "\n",
       "    .dataframe thead th {\n",
       "        text-align: right;\n",
       "    }\n",
       "</style>\n",
       "<table border=\"1\" class=\"dataframe\">\n",
       "  <thead>\n",
       "    <tr style=\"text-align: right;\">\n",
       "      <th></th>\n",
       "      <th>OID</th>\n",
       "      <th>GmlID</th>\n",
       "      <th>COD_ZBS</th>\n",
       "      <th>ZBS</th>\n",
       "      <th>CASOS</th>\n",
       "      <th>TASA_1000h</th>\n",
       "      <th>FECHADATOS</th>\n",
       "      <th>SHAPE</th>\n",
       "    </tr>\n",
       "  </thead>\n",
       "  <tbody>\n",
       "    <tr>\n",
       "      <th>0</th>\n",
       "      <td>1</td>\n",
       "      <td>Navarra_Coronavirus_ZBS_C.1</td>\n",
       "      <td>1</td>\n",
       "      <td>Altsasu/Alsasua</td>\n",
       "      <td>48</td>\n",
       "      <td>6.08</td>\n",
       "      <td>09-05-2020</td>\n",
       "      <td>{'rings': [[[565792.2745000003, 4755523.604], ...</td>\n",
       "    </tr>\n",
       "    <tr>\n",
       "      <th>1</th>\n",
       "      <td>2</td>\n",
       "      <td>Navarra_Coronavirus_ZBS_C.2</td>\n",
       "      <td>3</td>\n",
       "      <td>Irurtzun</td>\n",
       "      <td>29</td>\n",
       "      <td>4.40</td>\n",
       "      <td>09-05-2020</td>\n",
       "      <td>{'rings': [[[582319.8996000001, 4770046.0591],...</td>\n",
       "    </tr>\n",
       "    <tr>\n",
       "      <th>2</th>\n",
       "      <td>3</td>\n",
       "      <td>Navarra_Coronavirus_ZBS_C.3</td>\n",
       "      <td>4</td>\n",
       "      <td>Leitza</td>\n",
       "      <td>6</td>\n",
       "      <td>1.82</td>\n",
       "      <td>09-05-2020</td>\n",
       "      <td>{'rings': [[[600355.1153999995, 4779566.558], ...</td>\n",
       "    </tr>\n",
       "    <tr>\n",
       "      <th>3</th>\n",
       "      <td>4</td>\n",
       "      <td>Navarra_Coronavirus_ZBS_C.4</td>\n",
       "      <td>5</td>\n",
       "      <td>Lesaka</td>\n",
       "      <td>11</td>\n",
       "      <td>1.58</td>\n",
       "      <td>09-05-2020</td>\n",
       "      <td>{'rings': [[[615659.0042000003, 4789568.3168],...</td>\n",
       "    </tr>\n",
       "    <tr>\n",
       "      <th>4</th>\n",
       "      <td>5</td>\n",
       "      <td>Navarra_Coronavirus_ZBS_C.5</td>\n",
       "      <td>6</td>\n",
       "      <td>Elizondo</td>\n",
       "      <td>72</td>\n",
       "      <td>10.28</td>\n",
       "      <td>09-05-2020</td>\n",
       "      <td>{'rings': [[[626495.9418000001, 4767876.4365],...</td>\n",
       "    </tr>\n",
       "  </tbody>\n",
       "</table>\n",
       "</div>"
      ],
      "text/plain": [
       "   OID                        GmlID  COD_ZBS              ZBS  CASOS  \\\n",
       "0    1  Navarra_Coronavirus_ZBS_C.1        1  Altsasu/Alsasua     48   \n",
       "1    2  Navarra_Coronavirus_ZBS_C.2        3         Irurtzun     29   \n",
       "2    3  Navarra_Coronavirus_ZBS_C.3        4           Leitza      6   \n",
       "3    4  Navarra_Coronavirus_ZBS_C.4        5           Lesaka     11   \n",
       "4    5  Navarra_Coronavirus_ZBS_C.5        6         Elizondo     72   \n",
       "\n",
       "   TASA_1000h  FECHADATOS                                              SHAPE  \n",
       "0        6.08  09-05-2020  {'rings': [[[565792.2745000003, 4755523.604], ...  \n",
       "1        4.40  09-05-2020  {'rings': [[[582319.8996000001, 4770046.0591],...  \n",
       "2        1.82  09-05-2020  {'rings': [[[600355.1153999995, 4779566.558], ...  \n",
       "3        1.58  09-05-2020  {'rings': [[[615659.0042000003, 4789568.3168],...  \n",
       "4       10.28  09-05-2020  {'rings': [[[626495.9418000001, 4767876.4365],...  "
      ]
     },
     "execution_count": 5,
     "metadata": {},
     "output_type": "execute_result"
    }
   ],
   "source": [
    "# usamos el spatially enabled dataframe del API (basado en pandas) para leer una FC\n",
    "fc = features.GeoAccessor.from_featureclass(localFC)\n",
    "fc.head()"
   ]
  },
  {
   "cell_type": "code",
   "execution_count": 6,
   "metadata": {},
   "outputs": [],
   "source": [
    "# es importante conocer en qué momento hemos salvado estos datos así que lo reflejaremos en el nombre de la capa. Podríamos haber hecho esto mismo con las FC locales\n",
    "import datetime as dt\n",
    "def now_dt():\n",
    "    return datetime.datetime.now().strftime(\"%Y_%m_%d-%H_%M_%S\")"
   ]
  },
  {
   "cell_type": "code",
   "execution_count": 7,
   "metadata": {},
   "outputs": [
    {
     "data": {
      "text/html": [
       "<div class=\"item_container\" style=\"height: auto; overflow: hidden; border: 1px solid #cfcfcf; border-radius: 2px; background: #f6fafa; line-height: 1.21429em; padding: 10px;\">\n",
       "                    <div class=\"item_left\" style=\"width: 210px; float: left;\">\n",
       "                       <a href='https://aremirez.maps.arcgis.com/home/item.html?id=db87e452570b4f60bef0b28261785b29' target='_blank'>\n",
       "                        <img src='http://static.arcgis.com/images/desktopapp.png' class=\"itemThumbnail\">\n",
       "                       </a>\n",
       "                    </div>\n",
       "\n",
       "                    <div class=\"item_right\"     style=\"float: none; width: auto; overflow: hidden;\">\n",
       "                        <a href='https://aremirez.maps.arcgis.com/home/item.html?id=db87e452570b4f60bef0b28261785b29' target='_blank'><b>Navarra_Coronavirus_ZBS_C_2020_05_10-13_13_34</b>\n",
       "                        </a>\n",
       "                        <br/><img src='https://aremirez.maps.arcgis.com/home/js/jsapi/esri/css/images/item_type_icons/featureshosted16.png' style=\"vertical-align:middle;\">Feature Layer Collection by aremirezdev\n",
       "                        <br/>Last Modified: mayo 10, 2020\n",
       "                        <br/>0 comments, 0 views\n",
       "                    </div>\n",
       "                </div>\n",
       "                "
      ],
      "text/plain": [
       "<Item title:\"Navarra_Coronavirus_ZBS_C_2020_05_10-13_13_34\" type:Feature Layer Collection owner:aremirezdev>"
      ]
     },
     "execution_count": 7,
     "metadata": {},
     "output_type": "execute_result"
    }
   ],
   "source": [
    "# guardamos en nuestra organización de ArcGIS Online los datos exportados\n",
    "new_covid_item = fc.spatial.to_featurelayer(title=wfsLayerName + '_' + now_dt(),\n",
    "                                                gis=gis,\n",
    "                                                tags=\"Navarra, Covid\")\n",
    "new_covid_item"
   ]
  },
  {
   "cell_type": "code",
   "execution_count": 8,
   "metadata": {},
   "outputs": [
    {
     "data": {
      "text/html": [
       "<div class=\"item_container\" style=\"height: auto; overflow: hidden; border: 1px solid #cfcfcf; border-radius: 2px; background: #f6fafa; line-height: 1.21429em; padding: 10px;\">\n",
       "                    <div class=\"item_left\" style=\"width: 210px; float: left;\">\n",
       "                       <a href='https://aremirez.maps.arcgis.com/home/item.html?id=e7617af8ce1c4233a94be75dd44ac2dc' target='_blank'>\n",
       "                        <img src='data:image/png;base64,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' width='200' height='133' class=\"itemThumbnail\">\n",
       "                       </a>\n",
       "                    </div>\n",
       "\n",
       "                    <div class=\"item_right\"     style=\"float: none; width: auto; overflow: hidden;\">\n",
       "                        <a href='https://aremirez.maps.arcgis.com/home/item.html?id=e7617af8ce1c4233a94be75dd44ac2dc' target='_blank'><b>Zonas de salud básicas</b>\n",
       "                        </a>\n",
       "                        <br/><img src='https://aremirez.maps.arcgis.com/home/js/jsapi/esri/css/images/item_type_icons/featureshosted16.png' style=\"vertical-align:middle;\">Feature Layer Collection by aremirezdev\n",
       "                        <br/>Last Modified: mayo 10, 2020\n",
       "                        <br/>0 comments, 4 views\n",
       "                    </div>\n",
       "                </div>\n",
       "                "
      ],
      "text/plain": [
       "<Item title:\"Zonas de salud básicas\" type:Feature Layer Collection owner:aremirezdev>"
      ]
     },
     "execution_count": 8,
     "metadata": {},
     "output_type": "execute_result"
    }
   ],
   "source": [
    "zonas_salud = gis.content.search('Zonas de salud')[0]\n",
    "zonas_salud"
   ]
  },
  {
   "cell_type": "code",
   "execution_count": 9,
   "metadata": {},
   "outputs": [],
   "source": [
    "from IPython.display import clear_output, display\n",
    "import ipywidgets as widgets"
   ]
  },
  {
   "cell_type": "code",
   "execution_count": 18,
   "metadata": {},
   "outputs": [
    {
     "data": {
      "application/vnd.jupyter.widget-view+json": {
       "model_id": "8916be960dbd4bfabe857bd5289b78aa",
       "version_major": 2,
       "version_minor": 0
      },
      "text/plain": [
       "MapView(layout=Layout(height='400px', width='100%'))"
      ]
     },
     "metadata": {},
     "output_type": "display_data"
    },
    {
     "data": {
      "text/html": [
       "<div class=\"map-static-img-preview-65f22a08-522e-4a6e-b5e1-05d47b393836\"><img src=\"\"></img></div>"
      ],
      "text/plain": [
       "<IPython.core.display.HTML object>"
      ]
     },
     "metadata": {},
     "output_type": "display_data"
    },
    {
     "data": {
      "application/vnd.jupyter.widget-view+json": {
       "model_id": "32b0bbf915f4463fbd48dfa3f6eafcec",
       "version_major": 2,
       "version_minor": 0
      },
      "text/plain": [
       "FloatSlider(value=0.0, continuous_update=False, description='Tasa de contagio por cada 1.000 habitantes:', lay…"
      ]
     },
     "metadata": {},
     "output_type": "display_data"
    },
    {
     "data": {
      "application/vnd.jupyter.widget-view+json": {
       "model_id": "b2e6e710889840e5889cfa7c22574a5e",
       "version_major": 2,
       "version_minor": 0
      },
      "text/plain": [
       "Button(button_style='success', description='Imprimir', style=ButtonStyle(), tooltip='Imprimir')"
      ]
     },
     "metadata": {},
     "output_type": "display_data"
    }
   ],
   "source": [
    "# creamos el mapa con la capa cargada sin filtro\n",
    "map = gis.map('Navarra')\n",
    "map.basemap = 'gray-vector'\n",
    "map.add_layer(zonas_salud)\n",
    "map.add_layer(new_covid_item, {\"renderer\":\"ClassedColorRenderer\", \"field_name\": \"TASA_1000h\"})\n",
    "\n",
    "# creamos el widget slider con un rango de contagios entre 0 y 20 por cada 1.000 habitantes\n",
    "style = {'description_width': 'initial'}\n",
    "slider = widgets.FloatSlider(\n",
    "    value=0,\n",
    "    min=0,\n",
    "    max=20,\n",
    "    step=1,\n",
    "    description='Tasa de contagio por cada 1.000 habitantes:',\n",
    "    style=style,\n",
    "    disabled=False,\n",
    "    continuous_update=False,\n",
    "    orientation='horizontal',\n",
    "    layout=widgets.Layout(width='50%', height='20px')\n",
    ")\n",
    "def on_change(change):\n",
    "    map.remove_layers(layers=new_covid_item)\n",
    "    map.add_layer(new_covid_item, {\"renderer\":\"ClassedColorRenderer\", \"field_name\": \"TASA_1000h\", \"definition_expression\":\"TASA_1000h >\" + str(change['new'])})\n",
    "slider.observe(on_change, names='value')\n",
    "\n",
    "# creamos el botón de imprimir para que nos genere un PNG en local\n",
    "button = widgets.Button(\n",
    "    description='Imprimir',\n",
    "    button_style='success',\n",
    "    tooltip='Imprimir'\n",
    ")\n",
    "def on_click(button_object):\n",
    "    map.take_screenshot(file_path=r\"C:\\\\Temp\\\\Lodosa\\\\Navarra\\\\map.png\")\n",
    "button.on_click(on_click)\n",
    "\n",
    "# mostramos en una única celda mapa, slider y botón de impresión\n",
    "display(map)\n",
    "display(slider)\n",
    "display(button)"
   ]
  }
 ],
 "metadata": {
  "kernelspec": {
   "display_name": "Python 3",
   "language": "python",
   "name": "python3"
  },
  "language_info": {
   "codemirror_mode": {
    "name": "ipython",
    "version": 3
   },
   "file_extension": ".py",
   "mimetype": "text/x-python",
   "name": "python",
   "nbconvert_exporter": "python",
   "pygments_lexer": "ipython3",
   "version": "3.6.9"
  }
 },
 "nbformat": 4,
 "nbformat_minor": 2
}
